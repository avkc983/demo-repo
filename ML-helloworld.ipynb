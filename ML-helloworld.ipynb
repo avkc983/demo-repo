{
  "nbformat": 4,
  "nbformat_minor": 0,
  "metadata": {
    "colab": {
      "provenance": [],
      "authorship_tag": "ABX9TyOjP7Bb2yOTa3o3FDtYJ5RL",
      "include_colab_link": true
    },
    "kernelspec": {
      "name": "python3",
      "display_name": "Python 3"
    },
    "language_info": {
      "name": "python"
    }
  },
  "cells": [
    {
      "cell_type": "markdown",
      "metadata": {
        "id": "view-in-github",
        "colab_type": "text"
      },
      "source": [
        "<a href=\"https://colab.research.google.com/github/avkc983/demo-repo/blob/main/ML-helloworld.ipynb\" target=\"_parent\"><img src=\"https://colab.research.google.com/assets/colab-badge.svg\" alt=\"Open In Colab\"/></a>"
      ]
    },
    {
      "cell_type": "code",
      "execution_count": null,
      "metadata": {
        "id": "Q6s4MadQiuQ5"
      },
      "outputs": [],
      "source": [
        "import tensorflow as tf\n",
        "import numpy as np\n",
        "from tensorflow import keras"
      ]
    },
    {
      "cell_type": "code",
      "source": [
        "model = tf.keras.Sequential([keras.layers.Dense(units=1, input_shape=[1])])\n",
        "print(model)"
      ],
      "metadata": {
        "colab": {
          "base_uri": "https://localhost:8080/"
        },
        "id": "s86p1jiGjDOb",
        "outputId": "7f4db1d5-477e-4517-ee4f-f7c42eab9e13"
      },
      "execution_count": null,
      "outputs": [
        {
          "output_type": "stream",
          "name": "stdout",
          "text": [
            "<keras.src.engine.sequential.Sequential object at 0x7d855c391660>\n"
          ]
        }
      ]
    },
    {
      "cell_type": "code",
      "source": [
        "model.compile(optimizer='sgd', loss='mean_squared_error')"
      ],
      "metadata": {
        "id": "m483wpmWjdtu"
      },
      "execution_count": null,
      "outputs": []
    },
    {
      "cell_type": "code",
      "source": [
        "xs = np.array([-1.0, 0.0, 1.0, 2.0, 3.0, 4.0], dtype=float)\n",
        "ys = np.array([-2.0, 1.0, 4.0, 7.0, 10.0, 13.0], dtype=float)"
      ],
      "metadata": {
        "id": "5LQJ_A6Bj_RT"
      },
      "execution_count": null,
      "outputs": []
    },
    {
      "cell_type": "code",
      "source": [
        "fit=model.fit(xs,ys, epochs = 50);"
      ],
      "metadata": {
        "colab": {
          "base_uri": "https://localhost:8080/"
        },
        "id": "mFqzwMhAkihQ",
        "outputId": "ca4e77b7-1b46-4d0b-c10a-b7abc696b69f"
      },
      "execution_count": null,
      "outputs": [
        {
          "output_type": "stream",
          "name": "stdout",
          "text": [
            "Epoch 1/50\n",
            "1/1 [==============================] - 0s 10ms/step - loss: 4.1249e-11\n",
            "Epoch 2/50\n",
            "1/1 [==============================] - 0s 9ms/step - loss: 4.1249e-11\n",
            "Epoch 3/50\n",
            "1/1 [==============================] - 0s 9ms/step - loss: 4.1249e-11\n",
            "Epoch 4/50\n",
            "1/1 [==============================] - 0s 9ms/step - loss: 4.1249e-11\n",
            "Epoch 5/50\n",
            "1/1 [==============================] - 0s 9ms/step - loss: 4.1249e-11\n",
            "Epoch 6/50\n",
            "1/1 [==============================] - 0s 11ms/step - loss: 4.1249e-11\n",
            "Epoch 7/50\n",
            "1/1 [==============================] - 0s 10ms/step - loss: 4.1249e-11\n",
            "Epoch 8/50\n",
            "1/1 [==============================] - 0s 9ms/step - loss: 4.1249e-11\n",
            "Epoch 9/50\n",
            "1/1 [==============================] - 0s 14ms/step - loss: 4.1249e-11\n",
            "Epoch 10/50\n",
            "1/1 [==============================] - 0s 12ms/step - loss: 4.1249e-11\n",
            "Epoch 11/50\n",
            "1/1 [==============================] - 0s 10ms/step - loss: 4.1249e-11\n",
            "Epoch 12/50\n",
            "1/1 [==============================] - 0s 9ms/step - loss: 4.1249e-11\n",
            "Epoch 13/50\n",
            "1/1 [==============================] - 0s 10ms/step - loss: 4.1249e-11\n",
            "Epoch 14/50\n",
            "1/1 [==============================] - 0s 15ms/step - loss: 4.1249e-11\n",
            "Epoch 15/50\n",
            "1/1 [==============================] - 0s 10ms/step - loss: 4.1249e-11\n",
            "Epoch 16/50\n",
            "1/1 [==============================] - 0s 11ms/step - loss: 4.1249e-11\n",
            "Epoch 17/50\n",
            "1/1 [==============================] - 0s 9ms/step - loss: 4.1249e-11\n",
            "Epoch 18/50\n",
            "1/1 [==============================] - 0s 9ms/step - loss: 4.1249e-11\n",
            "Epoch 19/50\n",
            "1/1 [==============================] - 0s 9ms/step - loss: 4.1249e-11\n",
            "Epoch 20/50\n",
            "1/1 [==============================] - 0s 9ms/step - loss: 4.1249e-11\n",
            "Epoch 21/50\n",
            "1/1 [==============================] - 0s 9ms/step - loss: 4.1249e-11\n",
            "Epoch 22/50\n",
            "1/1 [==============================] - 0s 9ms/step - loss: 4.1249e-11\n",
            "Epoch 23/50\n",
            "1/1 [==============================] - 0s 11ms/step - loss: 4.1249e-11\n",
            "Epoch 24/50\n",
            "1/1 [==============================] - 0s 10ms/step - loss: 4.1249e-11\n",
            "Epoch 25/50\n",
            "1/1 [==============================] - 0s 9ms/step - loss: 4.1249e-11\n",
            "Epoch 26/50\n",
            "1/1 [==============================] - 0s 11ms/step - loss: 4.1249e-11\n",
            "Epoch 27/50\n",
            "1/1 [==============================] - 0s 9ms/step - loss: 4.1249e-11\n",
            "Epoch 28/50\n",
            "1/1 [==============================] - 0s 9ms/step - loss: 4.1249e-11\n",
            "Epoch 29/50\n",
            "1/1 [==============================] - 0s 9ms/step - loss: 4.1249e-11\n",
            "Epoch 30/50\n",
            "1/1 [==============================] - 0s 8ms/step - loss: 4.1249e-11\n",
            "Epoch 31/50\n",
            "1/1 [==============================] - 0s 9ms/step - loss: 4.1249e-11\n",
            "Epoch 32/50\n",
            "1/1 [==============================] - 0s 9ms/step - loss: 4.1249e-11\n",
            "Epoch 33/50\n",
            "1/1 [==============================] - 0s 8ms/step - loss: 4.1249e-11\n",
            "Epoch 34/50\n",
            "1/1 [==============================] - 0s 8ms/step - loss: 4.1249e-11\n",
            "Epoch 35/50\n",
            "1/1 [==============================] - 0s 9ms/step - loss: 4.1249e-11\n",
            "Epoch 36/50\n",
            "1/1 [==============================] - 0s 8ms/step - loss: 4.1249e-11\n",
            "Epoch 37/50\n",
            "1/1 [==============================] - 0s 8ms/step - loss: 4.1249e-11\n",
            "Epoch 38/50\n",
            "1/1 [==============================] - 0s 8ms/step - loss: 4.1249e-11\n",
            "Epoch 39/50\n",
            "1/1 [==============================] - 0s 9ms/step - loss: 4.1249e-11\n",
            "Epoch 40/50\n",
            "1/1 [==============================] - 0s 9ms/step - loss: 4.1249e-11\n",
            "Epoch 41/50\n",
            "1/1 [==============================] - 0s 9ms/step - loss: 4.1249e-11\n",
            "Epoch 42/50\n",
            "1/1 [==============================] - 0s 9ms/step - loss: 4.1249e-11\n",
            "Epoch 43/50\n",
            "1/1 [==============================] - 0s 9ms/step - loss: 4.1249e-11\n",
            "Epoch 44/50\n",
            "1/1 [==============================] - 0s 9ms/step - loss: 4.1249e-11\n",
            "Epoch 45/50\n",
            "1/1 [==============================] - 0s 9ms/step - loss: 4.1249e-11\n",
            "Epoch 46/50\n",
            "1/1 [==============================] - 0s 10ms/step - loss: 4.1249e-11\n",
            "Epoch 47/50\n",
            "1/1 [==============================] - 0s 8ms/step - loss: 4.1249e-11\n",
            "Epoch 48/50\n",
            "1/1 [==============================] - 0s 11ms/step - loss: 4.1249e-11\n",
            "Epoch 49/50\n",
            "1/1 [==============================] - 0s 8ms/step - loss: 4.1249e-11\n",
            "Epoch 50/50\n",
            "1/1 [==============================] - 0s 9ms/step - loss: 4.1249e-11\n"
          ]
        }
      ]
    },
    {
      "cell_type": "code",
      "source": [
        "print(model.predict([1/3]))"
      ],
      "metadata": {
        "colab": {
          "base_uri": "https://localhost:8080/"
        },
        "id": "hEULCGrmkm-t",
        "outputId": "ddfc20d6-9fda-4679-ba97-b70cecf0a95f"
      },
      "execution_count": null,
      "outputs": [
        {
          "output_type": "stream",
          "name": "stdout",
          "text": [
            "1/1 [==============================] - 0s 100ms/step\n",
            "[[2.000124]]\n"
          ]
        }
      ]
    },
    {
      "cell_type": "code",
      "source": [],
      "metadata": {
        "id": "IkIIME2_laau"
      },
      "execution_count": null,
      "outputs": []
    }
  ]
}